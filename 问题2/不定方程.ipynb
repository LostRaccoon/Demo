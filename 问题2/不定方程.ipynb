{
 "cells": [
  {
   "cell_type": "markdown",
   "id": "9ac0c45a",
   "metadata": {},
   "source": [
    "题目$$\\frac{1}{x}+\\frac{1}{y}<\\frac{1}{n}$$ ,根据题意可知x<=y\n"
   ]
  },
  {
   "cell_type": "code",
   "execution_count": null,
   "id": "4ad201ba",
   "metadata": {
    "vscode": {
     "languageId": "plaintext"
    }
   },
   "outputs": [],
   "source": []
  },
  {
   "cell_type": "markdown",
   "id": "cfef47b9",
   "metadata": {},
   "source": []
  },
  {
   "cell_type": "code",
   "execution_count": null,
   "id": "7984752a",
   "metadata": {
    "vscode": {
     "languageId": "plaintext"
    }
   },
   "outputs": [],
   "source": []
  }
 ],
 "metadata": {
  "language_info": {
   "name": "python"
  }
 },
 "nbformat": 4,
 "nbformat_minor": 5
}
